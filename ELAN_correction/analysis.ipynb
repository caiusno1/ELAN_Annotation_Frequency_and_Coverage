{
 "cells": [
  {
   "cell_type": "code",
   "execution_count": 7,
   "metadata": {},
   "outputs": [],
   "source": [
    "import glob     # Import glob to easily loop over files\n",
    "import pympi    # Import pympi to work with elan files\n",
    "import nltk     # Import nltk to use tokenizer\n",
    "import pandas as pd\n",
    "import shutil\n",
    "import os"
   ]
  },
  {
   "cell_type": "code",
   "execution_count": 8,
   "metadata": {},
   "outputs": [],
   "source": [
    "def correctionSearch(notExNode, corrections, all_node_names, foundExistingNodes, file, role, interval, warninglog, initNode):\n",
    "    nodeUnknown = True\n",
    "    for correction in corrections:\n",
    "        if correction(notExNode).replace(\"X\",\"\") in all_node_names:\n",
    "            foundExistingNodes.append(correction(notExNode))\n",
    "            warninglog = warninglog+\"Node renamed: \"+initNode+\" -> \"+correction(notExNode)+\"; File: \"+file+\"; Role: \"+role+\"; Timeslot\"+interval+\"\\n\"\n",
    "            print(warninglog)\n",
    "            return False, warninglog\n",
    "    if nodeUnknown:\n",
    "        for corIdx in range(len(corrections)):\n",
    "            correction = corrections[corIdx]\n",
    "            ncorrections = corrections.copy()\n",
    "            del ncorrections[corIdx]\n",
    "            broadSearchRes = correctionSearch(correction(notExNode), ncorrections, all_node_names, foundExistingNodes, file, role, interval, warninglog, initNode)\n",
    "            warninglog = broadSearchRes[1]\n",
    "            nodeUnknown = nodeUnknown and broadSearchRes[0]\n",
    "            if not nodeUnknown:\n",
    "                return False, warninglog\n",
    "    return nodeUnknown, warninglog\n",
    "        "
   ]
  },
  {
   "cell_type": "code",
   "execution_count": 9,
   "metadata": {},
   "outputs": [],
   "source": [
    "def correctionPoint(annotation):\n",
    "    prepend =\"\"\n",
    "    if \"X\" in annotation:\n",
    "        prepend=\"X\"\n",
    "        annotation = annotation.replace(\"X\",\"\")\n",
    "    return annotation +  \".\"+prepend\n",
    "\n",
    "def correctionXSpace(annotation):\n",
    "    if \"X\" in annotation:\n",
    "        return annotation.replace(\"X\",\"\").strip()+\"X\"\n",
    "    elif \"x\" in annotation:\n",
    "        return annotation.replace(\"x\",\"\").strip()+\"X\"\n",
    "    else:\n",
    "        return annotation\n",
    "\n",
    "def correctionSpelling(token):\n",
    "    prepend =\"\"\n",
    "    if \"X\" in token:\n",
    "        prepend=\"X\"\n",
    "        token = token.replace(\"X\",\"\")\n",
    "    if token == \"1.0\":\n",
    "        token = \"1\"\n",
    "    elif token == \"1.0.\":\n",
    "        token = \"1\"\n",
    "    elif token == \"1.\":\n",
    "        token = \"1\"\n",
    "    elif token == \"8.2.1\":\n",
    "        token = \"8.2\"\n",
    "    elif token == \"5.7.\":\n",
    "        token = \"6.2.2.\"\n",
    "    return token+prepend"
   ]
  },
  {
   "cell_type": "code",
   "execution_count": 10,
   "metadata": {},
   "outputs": [],
   "source": [
    "def correctNodeNames(annotation, all_node_names, errorlog, warninglog, file, role, interval, eaf):\n",
    "    annotationText = annotation[2]\n",
    "    foundNodes = annotationText.split(\",\")\n",
    "    foundNodes = list(map(lambda x: x.strip(),foundNodes))\n",
    "    foundNotExistingNodes = list(filter(lambda x: (not x in all_node_names and not x.replace(\"X\", \"\").strip() in all_node_names) and not x == \"\",foundNodes)) \n",
    "    foundExistingNodes = list(filter(lambda x: x in all_node_names or x.replace(\"X\", \"\").strip() in all_node_names,foundNodes))\n",
    "    # correctionXSpace must be the last one !!!!!\n",
    "    corrections = [correctionXSpace, correctionPoint, correctionSpelling]\n",
    "\n",
    "    for notExNode in foundNotExistingNodes:\n",
    "        correctionUnsuccessful, warninglog = correctionSearch(notExNode, corrections, all_node_names, foundExistingNodes, file, role, interval, warninglog, notExNode)    \n",
    "        if correctionUnsuccessful:\n",
    "            errorlog = errorlog+\"Node unknown: \"+notExNode+\"; File: \"+file+\"; Role: \"+role+\"; Timeslot\"+interval+\"\\n\"\n",
    "    if len(foundNotExistingNodes) > 0: \n",
    "        eaf.remove_annotation(role+\"_Gamenodes\", annotation[0])\n",
    "        eaf.add_annotation(role+\"_Gamenodes\",annotation[0],annotation[1]-1 ,str(\",\".join(foundExistingNodes)))\n",
    "\n",
    "    #print(\"Change annotation \"+annotation[2]+interval+\" to \"+ str(\",\".join(foundExistingNodes)))\n",
    "    return errorlog, warninglog\n",
    "\n",
    "\n",
    "    "
   ]
  },
  {
   "cell_type": "code",
   "execution_count": 11,
   "metadata": {},
   "outputs": [],
   "source": [
    "def ms2human_readable(ms):\n",
    "    mss = ms % 1000\n",
    "    sec = int(ms / 1000)\n",
    "    min = int(sec/60)\n",
    "    sec = sec - min*60\n",
    "    h = int(min/60)\n",
    "    min = min - h*60\n",
    "    return str(h)+\":\"+str(min)+\":\"+str(sec)+\" \"+str(mss)"
   ]
  },
  {
   "cell_type": "code",
   "execution_count": 12,
   "metadata": {},
   "outputs": [
    {
     "name": "stdout",
     "output_type": "stream",
     "text": [
      "Node renamed: 5.4.2 -> 5.4.2.; File: in\\VP23_P2_A01.eaf; Role: EX; Timeslot[0:4:42 721;0:4:51 121]\n",
      "\n",
      "Node renamed: 5.4.2 -> 5.4.2.; File: in\\VP23_P2_A01.eaf; Role: EX; Timeslot[0:4:42 721;0:4:51 121]\n",
      "Node renamed: 1.0. -> 1; File: in\\VP26_P2_A01.eaf; Role: EX; Timeslot[0:0:5 240;0:0:8 399]\n",
      "\n",
      "Node renamed: 5.4.2 -> 5.4.2.; File: in\\VP23_P2_A01.eaf; Role: EX; Timeslot[0:4:42 721;0:4:51 121]\n",
      "Node renamed: 1.0. -> 1; File: in\\VP26_P2_A01.eaf; Role: EX; Timeslot[0:0:5 240;0:0:8 399]\n",
      "Node renamed: 1.0. -> 1; File: in\\VP27_P2_A01.eaf; Role: EX; Timeslot[0:0:6 670;0:0:8 789]\n",
      "\n",
      "Node renamed: 5.4.2 -> 5.4.2.; File: in\\VP23_P2_A01.eaf; Role: EX; Timeslot[0:4:42 721;0:4:51 121]\n",
      "Node renamed: 1.0. -> 1; File: in\\VP26_P2_A01.eaf; Role: EX; Timeslot[0:0:5 240;0:0:8 399]\n",
      "Node renamed: 1.0. -> 1; File: in\\VP27_P2_A01.eaf; Role: EX; Timeslot[0:0:6 670;0:0:8 789]\n",
      "Node renamed: 1.0. -> 1; File: in\\VP29_P2_A01.eaf; Role: EX; Timeslot[0:0:2 830;0:0:5 839]\n",
      "\n",
      "Node renamed: 5.4.2 -> 5.4.2.; File: in\\VP23_P2_A01.eaf; Role: EX; Timeslot[0:4:42 721;0:4:51 121]\n",
      "Node renamed: 1.0. -> 1; File: in\\VP26_P2_A01.eaf; Role: EX; Timeslot[0:0:5 240;0:0:8 399]\n",
      "Node renamed: 1.0. -> 1; File: in\\VP27_P2_A01.eaf; Role: EX; Timeslot[0:0:6 670;0:0:8 789]\n",
      "Node renamed: 1.0. -> 1; File: in\\VP29_P2_A01.eaf; Role: EX; Timeslot[0:0:2 830;0:0:5 839]\n",
      "Node renamed: 1.0. -> 1; File: in\\VP30_P2_A01.eaf; Role: EX; Timeslot[0:0:9 890;0:0:13 929]\n",
      "\n",
      "Node renamed: 5.4.2 -> 5.4.2.; File: in\\VP23_P2_A01.eaf; Role: EX; Timeslot[0:4:42 721;0:4:51 121]\n",
      "Node renamed: 1.0. -> 1; File: in\\VP26_P2_A01.eaf; Role: EX; Timeslot[0:0:5 240;0:0:8 399]\n",
      "Node renamed: 1.0. -> 1; File: in\\VP27_P2_A01.eaf; Role: EX; Timeslot[0:0:6 670;0:0:8 789]\n",
      "Node renamed: 1.0. -> 1; File: in\\VP29_P2_A01.eaf; Role: EX; Timeslot[0:0:2 830;0:0:5 839]\n",
      "Node renamed: 1.0. -> 1; File: in\\VP30_P2_A01.eaf; Role: EX; Timeslot[0:0:9 890;0:0:13 929]\n",
      "Node renamed: 5.4.1 -> 5.4.1.; File: in\\VP30_P2_A01.eaf; Role: EX; Timeslot[0:3:39 0;0:4:5 580]\n",
      "\n",
      "Node renamed: 5.4.2 -> 5.4.2.; File: in\\VP23_P2_A01.eaf; Role: EX; Timeslot[0:4:42 721;0:4:51 121]\n",
      "Node renamed: 1.0. -> 1; File: in\\VP26_P2_A01.eaf; Role: EX; Timeslot[0:0:5 240;0:0:8 399]\n",
      "Node renamed: 1.0. -> 1; File: in\\VP27_P2_A01.eaf; Role: EX; Timeslot[0:0:6 670;0:0:8 789]\n",
      "Node renamed: 1.0. -> 1; File: in\\VP29_P2_A01.eaf; Role: EX; Timeslot[0:0:2 830;0:0:5 839]\n",
      "Node renamed: 1.0. -> 1; File: in\\VP30_P2_A01.eaf; Role: EX; Timeslot[0:0:9 890;0:0:13 929]\n",
      "Node renamed: 5.4.1 -> 5.4.1.; File: in\\VP30_P2_A01.eaf; Role: EX; Timeslot[0:3:39 0;0:4:5 580]\n",
      "Node renamed: 5.2.2 -> 5.2.2.; File: in\\VP42_P2_A01.eaf; Role: EX; Timeslot[0:3:19 500;0:3:29 460]\n",
      "\n"
     ]
    }
   ],
   "source": [
    "keys = pd.read_csv(\"Nodeaufstellung.csv\")[\"NodeID\"].to_list()\n",
    "shutil.rmtree(os.getcwd()+'\\\\out')\n",
    "os.mkdir(\"out\")\n",
    "files = glob.glob(\"in/*.eaf\")\n",
    "errorlog = \"\"\n",
    "warninglog = \"\"\n",
    "for file in files:\n",
    "    eafob = pympi.Elan.Eaf(file)\n",
    "    singleTextEX = \"( EX \"+file+\")\"\n",
    "    singleTextEE = \"( EE \"+file+\")\"\n",
    "    for annotation in eafob.get_annotation_data_for_tier(\"EX_Gamenodes\"):\n",
    "        errorlog, warninglog = correctNodeNames(annotation,keys, errorlog, warninglog, file, \"EX\", \"[\"+str(ms2human_readable(annotation[0]))+\";\"+str(ms2human_readable(annotation[1]))+\"]\",eafob)\n",
    "    for annotation in eafob.get_annotation_data_for_tier(\"EE_Gamenodes\"):\n",
    "        errorlog, warninglog = correctNodeNames(annotation,keys, errorlog, warninglog, file, \"EE\", \"[\"+str(ms2human_readable(annotation[0]))+\";\"+str(ms2human_readable(annotation[1]))+\"]\",eafob)\n",
    "    oldFileNameSplit = file.split(\"\\\\\")[1].split(\".\")\n",
    "    pympi.Elan.to_eaf(\"out/\"+oldFileNameSplit[0]+\"_changed.\"+oldFileNameSplit[1],eafob)\n",
    "with open(\"out/error.log\",\"w\") as f:\n",
    "    f.write(errorlog)\n",
    "with open(\"out/warning.log\",\"w\") as f:\n",
    "    f.write(warninglog)"
   ]
  },
  {
   "cell_type": "code",
   "execution_count": null,
   "metadata": {},
   "outputs": [],
   "source": []
  }
 ],
 "metadata": {
  "kernelspec": {
   "display_name": "Python 3",
   "language": "python",
   "name": "python3"
  },
  "language_info": {
   "codemirror_mode": {
    "name": "ipython",
    "version": 3
   },
   "file_extension": ".py",
   "mimetype": "text/x-python",
   "name": "python",
   "nbconvert_exporter": "python",
   "pygments_lexer": "ipython3",
   "version": "3.10.4"
  },
  "orig_nbformat": 4,
  "vscode": {
   "interpreter": {
    "hash": "369f2c481f4da34e4445cda3fffd2e751bd1c4d706f27375911949ba6bb62e1c"
   }
  }
 },
 "nbformat": 4,
 "nbformat_minor": 2
}
